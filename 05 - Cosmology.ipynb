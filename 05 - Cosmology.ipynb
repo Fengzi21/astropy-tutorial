{
 "cells": [
  {
   "cell_type": "markdown",
   "metadata": {},
   "source": [
    "# Cosmology Calculations with Astropy\n",
    "\n",
    "__Author: Kaustubh Vaghmare__"
   ]
  },
  {
   "cell_type": "markdown",
   "metadata": {},
   "source": [
    "You no longer need to open a web browser to access a cosmology calculator. You can do all this in Python using astropy's cosmology module. Let's see a quick demo."
   ]
  },
  {
   "cell_type": "code",
   "execution_count": 1,
   "metadata": {},
   "outputs": [
    {
     "name": "stdout",
     "output_type": "stream",
     "text": [
      "['Planck18_arXiv_v2', 'Planck15', 'Planck13', 'WMAP9', 'WMAP7', 'WMAP5']\n"
     ]
    }
   ],
   "source": [
    "from astropy import cosmology\n",
    "print(cosmology.parameters.available)"
   ]
  },
  {
   "cell_type": "code",
   "execution_count": 2,
   "metadata": {},
   "outputs": [
    {
     "name": "stdout",
     "output_type": "stream",
     "text": [
      "159.16501423405055 km / (Mpc s)\n",
      "0.03373807940562921\n",
      "1.7653419274193383e-28 g / cm3\n",
      "2728.2255 K\n",
      "1770.5128493113361 Mpc\n",
      "0.0316852971544913 arcsec / kpc\n",
      "0.2\n"
     ]
    }
   ],
   "source": [
    "# Let us choose a model out of one of the above...\n",
    "from astropy.cosmology import Planck15\n",
    "\n",
    "print(Planck15.H(1.5)) # what is the Hubble parameter at redshift 1.5?\n",
    "print(Planck15.Ode(3)) # density parameter for dark energy at redshift z=3   (in units of critical density)\n",
    "print(Planck15.critical_density(3))\n",
    "print(Planck15.Tcmb(1000))\n",
    "print(Planck15.angular_diameter_distance(2))\n",
    "print(Planck15.arcsec_per_kpc_comoving(3))\n",
    "print(Planck15.scale_factor(4))"
   ]
  },
  {
   "cell_type": "code",
   "execution_count": 3,
   "metadata": {},
   "outputs": [
    {
     "name": "stdout",
     "output_type": "stream",
     "text": [
      "H\n",
      "H0\n",
      "Neff\n",
      "Ob\n",
      "Ob0\n",
      "Ode\n",
      "Ode0\n",
      "Odm\n",
      "Odm0\n",
      "Ogamma\n",
      "Ogamma0\n",
      "Ok\n",
      "Ok0\n",
      "Om\n",
      "Om0\n",
      "Onu\n",
      "Onu0\n",
      "Tcmb\n",
      "Tcmb0\n",
      "Tnu\n",
      "Tnu0\n",
      "abs_distance_integrand\n",
      "absorption_distance\n",
      "age\n",
      "angular_diameter_distance\n",
      "angular_diameter_distance_z1z2\n",
      "arcsec_per_kpc_comoving\n",
      "arcsec_per_kpc_proper\n",
      "clone\n",
      "comoving_distance\n",
      "comoving_transverse_distance\n",
      "comoving_volume\n",
      "critical_density\n",
      "critical_density0\n",
      "de_density_scale\n",
      "differential_comoving_volume\n",
      "distmod\n",
      "efunc\n",
      "h\n",
      "has_massive_nu\n",
      "hubble_distance\n",
      "hubble_time\n",
      "inv_efunc\n",
      "kpc_comoving_per_arcmin\n",
      "kpc_proper_per_arcmin\n",
      "lookback_distance\n",
      "lookback_time\n",
      "lookback_time_integrand\n",
      "luminosity_distance\n",
      "m_nu\n",
      "name\n",
      "nu_relative_density\n",
      "scale_factor\n",
      "w\n"
     ]
    }
   ],
   "source": [
    "print(\"\\n\".join([i for i in dir(Planck15) if not i[0] == \"_\"]))"
   ]
  },
  {
   "cell_type": "code",
   "execution_count": null,
   "metadata": {},
   "outputs": [],
   "source": []
  }
 ],
 "metadata": {
  "kernelspec": {
   "display_name": "Python 3",
   "language": "python",
   "name": "python3"
  },
  "language_info": {
   "codemirror_mode": {
    "name": "ipython",
    "version": 3
   },
   "file_extension": ".py",
   "mimetype": "text/x-python",
   "name": "python",
   "nbconvert_exporter": "python",
   "pygments_lexer": "ipython3",
   "version": "3.6.13"
  }
 },
 "nbformat": 4,
 "nbformat_minor": 4
}
