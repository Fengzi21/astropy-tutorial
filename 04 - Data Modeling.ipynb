{
 "cells": [
  {
   "cell_type": "markdown",
   "metadata": {},
   "source": [
    "# Data Modeling with Astropy\n",
    "\n",
    "__Author: Kaustubh Vaghmare__"
   ]
  },
  {
   "cell_type": "markdown",
   "metadata": {},
   "source": [
    "\"modeling\" is a library in Python designed to give you\n",
    "\n",
    "- Access to commonly used models.\n",
    "- As well as fit them to various data.\n",
    "\n",
    "Let's see how to use this module."
   ]
  },
  {
   "cell_type": "markdown",
   "metadata": {},
   "source": [
    "First off, we will use the models prebuilt into this module to generate some data."
   ]
  },
  {
   "cell_type": "code",
   "execution_count": 2,
   "metadata": {},
   "outputs": [
    {
     "data": {
      "text/plain": [
       "<matplotlib.collections.PathCollection at 0x7f16e2960be0>"
      ]
     },
     "execution_count": 2,
     "metadata": {},
     "output_type": "execute_result"
    },
    {
     "data": {
      "image/png": "[encoded data removed]",
      "text/plain": [
       "<Figure size 432x288 with 1 Axes>"
      ]
     },
     "metadata": {
      "needs_background": "light"
     },
     "output_type": "display_data"
    }
   ],
   "source": [
    "from astropy.modeling import models\n",
    "import numpy as np\n",
    "import matplotlib.pyplot as plt\n",
    "%matplotlib inline\n",
    "\n",
    "x = np.linspace(9, 14, 100)\n",
    "gauss_example1 = models.Gaussian1D(amplitude=1.0, mean=12, stddev=0.5)\n",
    "gauss_example2 = models.Gaussian1D(amplitude=2.0, mean=13.5, stddev=0.2)\n",
    "gauss_total = gauss_example1 + gauss_example2\n",
    "y = gauss_total(x)\n",
    "\n",
    "plt.scatter(x,y)"
   ]
  },
  {
   "cell_type": "code",
   "execution_count": 3,
   "metadata": {},
   "outputs": [
    {
     "data": {
      "text/plain": [
       "<matplotlib.collections.PathCollection at 0x7f16e292b588>"
      ]
     },
     "execution_count": 3,
     "metadata": {},
     "output_type": "execute_result"
    },
    {
     "data": {
      "image/png": "[encoded data removed]",
      "text/plain": [
       "<Figure size 432x288 with 1 Axes>"
      ]
     },
     "metadata": {
      "needs_background": "light"
     },
     "output_type": "display_data"
    }
   ],
   "source": [
    "import numpy.random as nr\n",
    "\n",
    "y_noise = nr.normal(0, 0.1, len(x))\n",
    "y_obs = 12 + 0.01*x**2 + y + y_noise\n",
    "plt.scatter(x, y_obs)"
   ]
  },
  {
   "cell_type": "markdown",
   "metadata": {},
   "source": [
    "We saw how trivial it is to use a model and actually evaluate it over a range. But a more useful thing we need to do with models is to fit some data. Now, pretend that x and y_obs are two arrays that contain our observed data. We can start by plotting the same."
   ]
  },
  {
   "cell_type": "code",
   "execution_count": 4,
   "metadata": {},
   "outputs": [
    {
     "data": {
      "text/plain": [
       "<matplotlib.collections.PathCollection at 0x7f16e28acb00>"
      ]
     },
     "execution_count": 4,
     "metadata": {},
     "output_type": "execute_result"
    },
    {
     "data": {
      "image/png": "[encoded data removed]",
      "text/plain": [
       "<Figure size 432x288 with 1 Axes>"
      ]
     },
     "metadata": {
      "needs_background": "light"
     },
     "output_type": "display_data"
    }
   ],
   "source": [
    "plt.scatter(x, y_obs)"
   ]
  },
  {
   "cell_type": "markdown",
   "metadata": {},
   "source": [
    "Once we have a plot, our next step is to choose a model. What model shall fit the data well? Let us assume that these are spectral features with some known wavelengths. So, we may assume that each feature is a Gaussian. To minimize number if independent parameters, we may also consider that the difference in the wavelengths is a constant. Such a constraint obviously comes from our prior knowledge of the physical system that generated the spectrum.\n",
    "\n",
    "Next, these emission features clearly are not on their own - they are stop a continuum. Assuming that the continuum is not varying at a fast rate wrt wavelengths (X-axis), we can further assume that a quadratic polynomial suffices in accounting for this.\n",
    "\n",
    "So, our model is a second order polynomial plus two Gaussians, with different means but separated by a known amount.\n"
   ]
  },
  {
   "cell_type": "code",
   "execution_count": 13,
   "metadata": {},
   "outputs": [],
   "source": [
    "# So, let us construct our model.\n",
    "model = models.Gaussian1D(amplitude=1.0, mean=12.1, stddev=0.5) +\\\n",
    "        models.Gaussian1D(amplitude=1.0, mean=13.6, stddev=0.4) +\\\n",
    "        models.Polynomial1D(degree=2)"
   ]
  },
  {
   "cell_type": "code",
   "execution_count": 14,
   "metadata": {},
   "outputs": [
    {
     "name": "stdout",
     "output_type": "stream",
     "text": [
      "('amplitude_0', 'mean_0', 'stddev_0', 'amplitude_1', 'mean_1', 'stddev_1', 'c0_2', 'c1_2', 'c2_2')\n"
     ]
    }
   ],
   "source": [
    "print(model.param_names)"
   ]
  },
  {
   "cell_type": "code",
   "execution_count": 15,
   "metadata": {},
   "outputs": [],
   "source": [
    "# Our model is not complete. We must supply our constraint.\n",
    "def constraint_mean(model):\n",
    "    mean_0 = model.mean_1 - 1.5\n",
    "    return mean_0\n",
    "\n",
    "model.mean_0.tied = constraint_mean"
   ]
  },
  {
   "cell_type": "markdown",
   "metadata": {},
   "source": [
    "The model is ready. We have the data. What we finally need is a fitting algorithm. Let us choose the Marquardt Levenberg method."
   ]
  },
  {
   "cell_type": "code",
   "execution_count": 18,
   "metadata": {},
   "outputs": [],
   "source": [
    "from astropy.modeling import fitting\n",
    "fitter = fitting.LevMarLSQFitter()\n",
    "\n",
    "model_fit = fitter(model, x, y_obs)"
   ]
  },
  {
   "cell_type": "code",
   "execution_count": 19,
   "metadata": {},
   "outputs": [
    {
     "data": {
      "text/plain": [
       "array([9.75761883e-01, 1.19947500e+01, 4.73240100e-01, 1.99994340e+00,\n",
       "       1.34947500e+01, 1.88241905e-01, 1.16996934e+01, 4.57407605e-02,\n",
       "       8.49344516e-03])"
      ]
     },
     "execution_count": 19,
     "metadata": {},
     "output_type": "execute_result"
    }
   ],
   "source": [
    "model_fit.parameters"
   ]
  },
  {
   "cell_type": "code",
   "execution_count": 20,
   "metadata": {},
   "outputs": [
    {
     "data": {
      "text/plain": [
       "('amplitude_0',\n",
       " 'mean_0',\n",
       " 'stddev_0',\n",
       " 'amplitude_1',\n",
       " 'mean_1',\n",
       " 'stddev_1',\n",
       " 'c0_2',\n",
       " 'c1_2',\n",
       " 'c2_2')"
      ]
     },
     "execution_count": 20,
     "metadata": {},
     "output_type": "execute_result"
    }
   ],
   "source": [
    "model_fit.param_names"
   ]
  },
  {
   "cell_type": "code",
   "execution_count": 21,
   "metadata": {},
   "outputs": [
    {
     "data": {
      "text/plain": [
       "{'amplitude_0': 0.9757618832637589,\n",
       " 'mean_0': 11.994749999368633,\n",
       " 'stddev_0': 0.47324010021733376,\n",
       " 'amplitude_1': 1.9999434021287998,\n",
       " 'mean_1': 13.494749999368633,\n",
       " 'stddev_1': 0.1882419046695019,\n",
       " 'c0_2': 11.699693426027737,\n",
       " 'c1_2': 0.045740760547267445,\n",
       " 'c2_2': 0.008493445155085239}"
      ]
     },
     "execution_count": 21,
     "metadata": {},
     "output_type": "execute_result"
    }
   ],
   "source": [
    "dict(zip(model_fit.param_names, model_fit.parameters))"
   ]
  },
  {
   "cell_type": "code",
   "execution_count": 22,
   "metadata": {},
   "outputs": [
    {
     "data": {
      "text/plain": [
       "[<matplotlib.lines.Line2D at 0x7f16e23ab358>]"
      ]
     },
     "execution_count": 22,
     "metadata": {},
     "output_type": "execute_result"
    },
    {
     "data": {
      "image/png": "[encoded data removed]",
      "text/plain": [
       "<Figure size 432x288 with 1 Axes>"
      ]
     },
     "metadata": {
      "needs_background": "light"
     },
     "output_type": "display_data"
    }
   ],
   "source": [
    "plt.scatter(x, y_obs, color='black', alpha=0.3)\n",
    "plt.plot(x, model_fit(x), color='red')"
   ]
  }
 ],
 "metadata": {
  "kernelspec": {
   "display_name": "Python 3",
   "language": "python",
   "name": "python3"
  },
  "language_info": {
   "codemirror_mode": {
    "name": "ipython",
    "version": 3
   },
   "file_extension": ".py",
   "mimetype": "text/x-python",
   "name": "python",
   "nbconvert_exporter": "python",
   "pygments_lexer": "ipython3",
   "version": "3.6.13"
  }
 },
 "nbformat": 4,
 "nbformat_minor": 4
}
